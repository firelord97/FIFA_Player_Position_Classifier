{
 "cells": [
  {
   "cell_type": "code",
   "execution_count": 14,
   "metadata": {},
   "outputs": [
    {
     "name": "stderr",
     "output_type": "stream",
     "text": [
      "C:\\Users\\chinu\\AppData\\Local\\Temp\\ipykernel_37104\\1472952389.py:2: DtypeWarning: Columns (108) have mixed types. Specify dtype option on import or set low_memory=False.\n",
      "  data = pd.read_csv('fifa_players.csv')\n"
     ]
    }
   ],
   "source": [
    "import pandas as pd\n",
    "data = pd.read_csv('fifa_players.csv')\n",
    "pd.set_option('display.max_rows', None)  # Display all rows\n"
   ]
  },
  {
   "cell_type": "code",
   "execution_count": 15,
   "metadata": {},
   "outputs": [],
   "source": [
    "data = data[data['fifa_version'] == 24.0]\n",
    "columns_to_drop = ['player_url', 'fifa_version', 'fifa_update', 'update_as_of', 'short_name', 'long_name', 'dob', 'club_name', 'league_id',\n",
    "                   'league_level', 'club_position', 'club_loaned_from', 'club_joined_date', 'club_contract_valid_until_year', \n",
    "                   'nationality_id', 'nation_team_id', 'nation_position', 'nation_jersey_number', 'international_reputation', 'real_face',\n",
    "                   'release_clause_eur', 'player_tags', 'player_traits', 'pace', 'shooting', 'passing', 'dribbling', 'defending', 'physic', \n",
    "                   'goalkeeping_speed', 'ls', 'rs', 'rf', 'lf', 'ram', 'lam', 'ldm', 'lcm', 'rdm', 'rcm', 'lcb', 'rcb']\n",
    "data= data.drop(columns=columns_to_drop)"
   ]
  },
  {
   "cell_type": "code",
   "execution_count": 16,
   "metadata": {},
   "outputs": [],
   "source": [
    "null_columns = ['value_eur', 'wage_eur', 'club_team_id', 'league_name', 'club_jersey_number']\n",
    "data = data.dropna(subset=null_columns)"
   ]
  },
  {
   "cell_type": "code",
   "execution_count": 17,
   "metadata": {},
   "outputs": [],
   "source": [
    "def extract_positions(positions):\n",
    "    if pd.isna(positions):\n",
    "        return None, None\n",
    "    positions_list = positions.split(', ')\n",
    "    first_position = positions_list[0]\n",
    "    alternative_positions = positions_list[1:] if len(positions_list) > 1 else []\n",
    "    return first_position, alternative_positions\n",
    "data[['first_position', 'alternative_positions']] = data['player_positions'].apply(lambda x: pd.Series(extract_positions(x)))\n",
    "data = data.drop(columns='player_positions')"
   ]
  },
  {
   "cell_type": "code",
   "execution_count": 18,
   "metadata": {},
   "outputs": [
    {
     "data": {
      "text/plain": [
       "array(['ST', 'CM', 'CF', 'GK', 'LW', 'CDM', 'CB', 'RW', 'CAM', 'RB', 'RM',\n",
       "       'LB', 'LM', 'LWB', 'RWB'], dtype=object)"
      ]
     },
     "execution_count": 18,
     "metadata": {},
     "output_type": "execute_result"
    }
   ],
   "source": [
    "data['first_position'].unique()"
   ]
  },
  {
   "cell_type": "code",
   "execution_count": 19,
   "metadata": {},
   "outputs": [],
   "source": [
    "import re\n",
    "def convert_expression(value):\n",
    "    try:\n",
    "        if isinstance(value, str):\n",
    "            # Handle expressions with + or -\n",
    "            if '+' in value or '-' in value:\n",
    "                return eval(value)\n",
    "            elif re.match(r'\\d+', value):\n",
    "                return int(value)\n",
    "        else:\n",
    "            return value\n",
    "    except ValueError:\n",
    "        return value\n",
    "columns_to_convert = ['st','lw', 'cf', 'rw', 'cam', 'lm', 'cm', 'rm', 'lwb', 'cdm', 'gk', 'cb', 'rb', 'lb', 'rwb']\n",
    "for column in columns_to_convert:\n",
    "    data[column] = data[column].apply(convert_expression)\n",
    "for column in columns_to_convert:\n",
    "    data[column] = data[column].astype(int)\n"
   ]
  },
  {
   "cell_type": "code",
   "execution_count": 20,
   "metadata": {},
   "outputs": [],
   "source": [
    "# List of columns to one-hot encode\n",
    "columns_to_one_hot_encode = ['preferred_foot', 'work_rate', 'body_type']\n",
    "\n",
    "# Apply one-hot encoding to the specified columns\n",
    "data_encoded = pd.get_dummies(data, columns=columns_to_one_hot_encode)\n",
    "\n",
    "for column in data_encoded.columns:\n",
    "    if data_encoded[column].dtype == 'bool':\n",
    "        data_encoded[column] = data_encoded[column].astype(int)\n"
   ]
  },
  {
   "cell_type": "code",
   "execution_count": 21,
   "metadata": {},
   "outputs": [
    {
     "name": "stdout",
     "output_type": "stream",
     "text": [
      "<class 'pandas.core.frame.DataFrame'>\n",
      "Index: 18250 entries, 0 to 18349\n",
      "Data columns (total 86 columns):\n",
      " #   Column                       Non-Null Count  Dtype  \n",
      "---  ------                       --------------  -----  \n",
      " 0   player_id                    18250 non-null  int64  \n",
      " 1   overall                      18250 non-null  int64  \n",
      " 2   potential                    18250 non-null  int64  \n",
      " 3   value_eur                    18250 non-null  float64\n",
      " 4   wage_eur                     18250 non-null  float64\n",
      " 5   age                          18250 non-null  int64  \n",
      " 6   height_cm                    18250 non-null  int64  \n",
      " 7   weight_kg                    18250 non-null  int64  \n",
      " 8   club_team_id                 18250 non-null  float64\n",
      " 9   league_name                  18250 non-null  object \n",
      " 10  club_jersey_number           18250 non-null  float64\n",
      " 11  nationality_name             18250 non-null  object \n",
      " 12  weak_foot                    18250 non-null  int64  \n",
      " 13  skill_moves                  18250 non-null  int64  \n",
      " 14  attacking_crossing           18250 non-null  int64  \n",
      " 15  attacking_finishing          18250 non-null  int64  \n",
      " 16  attacking_heading_accuracy   18250 non-null  int64  \n",
      " 17  attacking_short_passing      18250 non-null  int64  \n",
      " 18  attacking_volleys            18250 non-null  int64  \n",
      " 19  skill_dribbling              18250 non-null  int64  \n",
      " 20  skill_curve                  18250 non-null  int64  \n",
      " 21  skill_fk_accuracy            18250 non-null  int64  \n",
      " 22  skill_long_passing           18250 non-null  int64  \n",
      " 23  skill_ball_control           18250 non-null  int64  \n",
      " 24  movement_acceleration        18250 non-null  int64  \n",
      " 25  movement_sprint_speed        18250 non-null  int64  \n",
      " 26  movement_agility             18250 non-null  int64  \n",
      " 27  movement_reactions           18250 non-null  int64  \n",
      " 28  movement_balance             18250 non-null  int64  \n",
      " 29  power_shot_power             18250 non-null  int64  \n",
      " 30  power_jumping                18250 non-null  int64  \n",
      " 31  power_stamina                18250 non-null  int64  \n",
      " 32  power_strength               18250 non-null  int64  \n",
      " 33  power_long_shots             18250 non-null  int64  \n",
      " 34  mentality_aggression         18250 non-null  int64  \n",
      " 35  mentality_interceptions      18250 non-null  int64  \n",
      " 36  mentality_positioning        18250 non-null  int64  \n",
      " 37  mentality_vision             18250 non-null  int64  \n",
      " 38  mentality_penalties          18250 non-null  int64  \n",
      " 39  mentality_composure          18250 non-null  float64\n",
      " 40  defending_marking_awareness  18250 non-null  int64  \n",
      " 41  defending_standing_tackle    18250 non-null  int64  \n",
      " 42  defending_sliding_tackle     18250 non-null  int64  \n",
      " 43  goalkeeping_diving           18250 non-null  int64  \n",
      " 44  goalkeeping_handling         18250 non-null  int64  \n",
      " 45  goalkeeping_kicking          18250 non-null  int64  \n",
      " 46  goalkeeping_positioning      18250 non-null  int64  \n",
      " 47  goalkeeping_reflexes         18250 non-null  int64  \n",
      " 48  st                           18250 non-null  int32  \n",
      " 49  lw                           18250 non-null  int32  \n",
      " 50  cf                           18250 non-null  int32  \n",
      " 51  rw                           18250 non-null  int32  \n",
      " 52  cam                          18250 non-null  int32  \n",
      " 53  lm                           18250 non-null  int32  \n",
      " 54  cm                           18250 non-null  int32  \n",
      " 55  rm                           18250 non-null  int32  \n",
      " 56  lwb                          18250 non-null  int32  \n",
      " 57  cdm                          18250 non-null  int32  \n",
      " 58  rwb                          18250 non-null  int32  \n",
      " 59  lb                           18250 non-null  int32  \n",
      " 60  cb                           18250 non-null  int32  \n",
      " 61  rb                           18250 non-null  int32  \n",
      " 62  gk                           18250 non-null  int32  \n",
      " 63  first_position               18250 non-null  object \n",
      " 64  alternative_positions        18250 non-null  object \n",
      " 65  preferred_foot_Left          18250 non-null  int32  \n",
      " 66  preferred_foot_Right         18250 non-null  int32  \n",
      " 67  work_rate_High/High          18250 non-null  int32  \n",
      " 68  work_rate_High/Low           18250 non-null  int32  \n",
      " 69  work_rate_High/Medium        18250 non-null  int32  \n",
      " 70  work_rate_Low/High           18250 non-null  int32  \n",
      " 71  work_rate_Low/Low            18250 non-null  int32  \n",
      " 72  work_rate_Low/Medium         18250 non-null  int32  \n",
      " 73  work_rate_Medium/High        18250 non-null  int32  \n",
      " 74  work_rate_Medium/Low         18250 non-null  int32  \n",
      " 75  work_rate_Medium/Medium      18250 non-null  int32  \n",
      " 76  body_type_Lean (170-)        18250 non-null  int32  \n",
      " 77  body_type_Lean (170-185)     18250 non-null  int32  \n",
      " 78  body_type_Lean (185+)        18250 non-null  int32  \n",
      " 79  body_type_Normal (170-)      18250 non-null  int32  \n",
      " 80  body_type_Normal (170-185)   18250 non-null  int32  \n",
      " 81  body_type_Normal (185+)      18250 non-null  int32  \n",
      " 82  body_type_Stocky (170-)      18250 non-null  int32  \n",
      " 83  body_type_Stocky (170-185)   18250 non-null  int32  \n",
      " 84  body_type_Stocky (185+)      18250 non-null  int32  \n",
      " 85  body_type_Unique             18250 non-null  int32  \n",
      "dtypes: float64(5), int32(36), int64(41), object(4)\n",
      "memory usage: 9.6+ MB\n"
     ]
    }
   ],
   "source": [
    "data_encoded.info()"
   ]
  },
  {
   "cell_type": "code",
   "execution_count": 22,
   "metadata": {},
   "outputs": [],
   "source": [
    "data_encoded.to_csv('fifa_players_processed.csv')"
   ]
  },
  {
   "cell_type": "code",
   "execution_count": null,
   "metadata": {},
   "outputs": [],
   "source": []
  }
 ],
 "metadata": {
  "kernelspec": {
   "display_name": "Python 3",
   "language": "python",
   "name": "python3"
  },
  "language_info": {
   "codemirror_mode": {
    "name": "ipython",
    "version": 3
   },
   "file_extension": ".py",
   "mimetype": "text/x-python",
   "name": "python",
   "nbconvert_exporter": "python",
   "pygments_lexer": "ipython3",
   "version": "3.11.9"
  }
 },
 "nbformat": 4,
 "nbformat_minor": 2
}
